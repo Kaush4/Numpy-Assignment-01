{
 "cells": [
  {
   "cell_type": "code",
   "execution_count": 5,
   "id": "2ea0c1b7",
   "metadata": {},
   "outputs": [
    {
     "name": "stdout",
     "output_type": "stream",
     "text": [
      "[0. 0. 0. 0. 1. 0. 0. 0. 0. 0.]\n"
     ]
    }
   ],
   "source": [
    "# 1. Create a null vector of size 10 but the fifth value which is 1.\n",
    "import numpy as np\n",
    "k = np.zeros(10)\n",
    "k[4] = 1\n",
    "print(k)\n"
   ]
  },
  {
   "cell_type": "code",
   "execution_count": 10,
   "id": "db5b268e",
   "metadata": {},
   "outputs": [
    {
     "name": "stdout",
     "output_type": "stream",
     "text": [
      "[10 11 12 13 14 15 16 17 18 19 20 21 22 23 24 25 26 27 28 29 30 31 32 33\n",
      " 34 35 36 37 38 39 40 41 42 43 44 45 46 47 48 49]\n"
     ]
    }
   ],
   "source": [
    "# 2. Create a vector with values ranging from 10 to 49.\n",
    "import numpy as np\n",
    "m = np.arange(10,50)\n",
    "print(m)"
   ]
  },
  {
   "cell_type": "code",
   "execution_count": 12,
   "id": "5ba777ff",
   "metadata": {},
   "outputs": [
    {
     "name": "stdout",
     "output_type": "stream",
     "text": [
      "[[0 1 2]\n",
      " [3 4 5]\n",
      " [6 7 8]]\n"
     ]
    }
   ],
   "source": [
    "# 3. Create a 3x3 matrix with values ranging from 0 to 8\n",
    "x = np.arange(0,9).reshape(3,3)\n",
    "print(x)\n"
   ]
  },
  {
   "cell_type": "code",
   "execution_count": 17,
   "id": "60c54cda",
   "metadata": {},
   "outputs": [
    {
     "name": "stdout",
     "output_type": "stream",
     "text": [
      "Indices of non-zero element are :\n",
      "0\n",
      "1\n",
      "4\n"
     ]
    }
   ],
   "source": [
    "# 4. Find indices of non-zero elements from [1,2,0,0,4,0]\n",
    "m = np.array([1,2,0,0,4,0])\n",
    "print(\"Indices of non-zero element are :\")\n",
    "for i in range(len(m)):\n",
    "    if m[i] != 0:\n",
    "        print(i)"
   ]
  },
  {
   "cell_type": "code",
   "execution_count": 29,
   "id": "1d33b68e",
   "metadata": {},
   "outputs": [
    {
     "name": "stdout",
     "output_type": "stream",
     "text": [
      "array is: [[51  2 28 53 49 43 18 11 91 14]\n",
      " [29 39 60 34 34 87 16 26 87 92]\n",
      " [82 35  7 50 63 83 72 80 49 84]\n",
      " [14 25 80 77 13  3 48 69 23 94]\n",
      " [42  5 64 28 67  3 92 33 40 89]\n",
      " [85 86 58 92 89  2 48 99 51 18]\n",
      " [94 29 87 93 50 24 80 27 76 47]\n",
      " [64 57 20 92 49 53 23 89 20 56]\n",
      " [41 61 55 30 29  0 85 84 14 60]\n",
      " [15 97 30 62 67 67 31 61 71 57]]\n",
      "Minimum value is : 0\n",
      "Maximum value is : 99\n"
     ]
    }
   ],
   "source": [
    "# 5. Create a 10x10 array with random values and find the minimum and maximum values.\n",
    "import random\n",
    "x = np.random.randint(0,100,size=(10,10))\n",
    "print(\"array is:\",x)\n",
    "mx = x.max()\n",
    "mi = x.min()\n",
    "print(\"Minimum value is :\",mi)\n",
    "print(\"Maximum value is :\",mx)"
   ]
  },
  {
   "cell_type": "code",
   "execution_count": 35,
   "id": "3ad1e1f1",
   "metadata": {},
   "outputs": [
    {
     "name": "stdout",
     "output_type": "stream",
     "text": [
      "vector is [[51  2 28 53 49 43 18 11 91 14]\n",
      " [29 39 60 34 34 87 16 26 87 92]\n",
      " [82 35  7 50 63 83 72 80 49 84]\n",
      " [14 25 80 77 13  3 48 69 23 94]\n",
      " [42  5 64 28 67  3 92 33 40 89]\n",
      " [85 86 58 92 89  2 48 99 51 18]\n",
      " [94 29 87 93 50 24 80 27 76 47]\n",
      " [64 57 20 92 49 53 23 89 20 56]\n",
      " [41 61 55 30 29  0 85 84 14 60]\n",
      " [15 97 30 62 67 67 31 61 71 57]]\n",
      "mean value is 22.166666666666668\n"
     ]
    }
   ],
   "source": [
    "# 6. Create a random vector of size 30 and find the mean value.\n",
    "np.random.seed(6)\n",
    "k = np.random.randint(0,50,size=(30))\n",
    "print(\"vector is\",x)\n",
    "m = k.mean()\n",
    "print(\"mean value is\",m)"
   ]
  }
 ],
 "metadata": {
  "kernelspec": {
   "display_name": "Python 3 (ipykernel)",
   "language": "python",
   "name": "python3"
  },
  "language_info": {
   "codemirror_mode": {
    "name": "ipython",
    "version": 3
   },
   "file_extension": ".py",
   "mimetype": "text/x-python",
   "name": "python",
   "nbconvert_exporter": "python",
   "pygments_lexer": "ipython3",
   "version": "3.9.12"
  }
 },
 "nbformat": 4,
 "nbformat_minor": 5
}
